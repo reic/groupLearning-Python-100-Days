{
 "cells": [
  {
   "cell_type": "code",
   "execution_count": 24,
   "metadata": {},
   "outputs": [
    {
     "name": "stdout",
     "output_type": "stream",
     "text": [
      "太陽能\n",
      "風能\n",
      "儲能\n",
      "系統整合\n",
      "氫能\n"
     ]
    }
   ],
   "source": [
    "\n",
    "def tempate_data(tech,peroid):\n",
    "\ttemplate=f'''為了掌握近年我國{tech}的科學研發能量，本研究將檢索範圍限制在{peroid}間，再透過GRB系統的關鍵字檢索，即可掌握近8年來我國之大學和研究機構於{tech}科技的研發能量。爾後，依據研究經費的類型、主要的科技經費補助機構、研究計畫的熱關鍵字和計畫關鍵字關聯性分析，約略了解政府在{tech}的研發投資。\n",
    "\n",
    "本研究採用下述關鍵字，獲得台灣政府支持的{tech}之科技計畫，\n",
    "\n",
    "[圖]歷年科技部{tech}研發投入。從{tech}的補助件數來看，\n",
    "從{tech}補助的經費來看，\n",
    "\n",
    "將{peroid}科技部之{tech}的研發投資分為四個區間，以消除特定年之大額投資造成的影響，\n",
    "\n",
    "\n",
    "{tech}的主要研究人員之專長可以透過學門的分析初步掌握，[圖]為科技部不同學門之{tech}研發投入經費的配比。\n",
    "\n",
    "我國學研機構之{tech}研究能量，可以透過{tech}之機構補助分析掌握。[圖]呈現了不同研究機構獲得科技部{tech}補助之比例，研究機構中 成功大學 獲得最多的{tech}研發補助，\n",
    "\n",
    "在關鍵字詞熱度分析的部分，本研究採用直接分析研究人員自定的關鍵詞，不再額外執行NLP斷字斷詞工具。分析科技部投入的{tech}計畫之關鍵字，可以得到太陽能電池是出現最多的關鍵字，然而與太陽能電池相關的關鍵字還有鈣鈦礦太陽能電池、染料敏化\n",
    "\n",
    "[圖] 呈現 {peroid}科技部補助研發的{tech}計畫之技術共現性關係。從整體{tech}技術來看，科技部支援的技術呈現....，並沒有形成明顯的主幹技術研發傾向。但是，在太陽能電池、風力發電、半導體技術、再生能源等議題，在科學研究似乎已經有一定的技術整合傾向，可能已經開始漸漸朝向可商品化方向發展。\n",
    "\n",
    "----------------------------------------'''\n",
    "\treturn template\n",
    "\n",
    "\n",
    "techs=[\"太陽能\",\"風能\",\"儲能\",\"系統整合\",\"氫能\"]\n",
    "peroid=\"103年至110年\"\n",
    "context=[]\n",
    "\n",
    "for tech in techs:\n",
    "\tprint(tech)\n",
    "\tcontext.append(tempate_data(tech,peroid))\n",
    "# print(context)\n",
    "with open(\"g:\\word.txt\",\"w\",encoding=\"utf-8\") as f:\n",
    "\tf.write('\\n'.join(context))"
   ]
  }
 ],
 "metadata": {
  "interpreter": {
   "hash": "b94d44edd9c7447e6e732e8608c04597396e36c72beedcad4d7ee4b0d542970e"
  },
  "kernelspec": {
   "display_name": "Octave",
   "language": "python",
   "name": "python3"
  },
  "language_info": {
   "codemirror_mode": {
    "name": "ipython",
    "version": 3
   },
   "file_extension": ".py",
   "mimetype": "text/x-python",
   "name": "python",
   "nbconvert_exporter": "python",
   "pygments_lexer": "ipython3",
   "version": "3.8.5"
  },
  "orig_nbformat": 4
 },
 "nbformat": 4,
 "nbformat_minor": 2
}
