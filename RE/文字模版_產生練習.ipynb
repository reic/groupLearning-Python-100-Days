{
 "cells": [
  {
   "cell_type": "code",
   "execution_count": null,
   "metadata": {},
   "outputs": [],
   "source": [
    "def tempate_data(tech,peroid):\n",
    "\ttemplate=f'''為了掌握近年我國{tech}的科學研發能量，本研究將檢索範圍限制在{peroid}間，再透過GRB系統的關鍵字檢索，即可掌握近8年來我國之大學和研究機構於{tech}科技的研發能量。'''\n",
    "\treturn template\n",
    "\n",
    "techs=[\"太陽能\",\"風能\",\"儲能\",\"系統整合\",\"氫能\"]\n",
    "peroid=\"103年至110年\"\n",
    "context=[]\n",
    "\n",
    "for tech in techs[:2]:\n",
    "\tprint(tempate_data(tech,peroid))"
   ]
  }
 ],
 "metadata": {
  "kernelspec": {
   "display_name": "Python 3.8.5 64-bit",
   "language": "python",
   "name": "python3"
  },
  "language_info": {
   "codemirror_mode": {
    "name": "ipython",
    "version": 3
   },
   "file_extension": ".py",
   "mimetype": "text/x-python",
   "name": "python",
   "nbconvert_exporter": "python",
   "pygments_lexer": "ipython3",
   "version": "3.8.5"
  },
  "orig_nbformat": 4,
  "vscode": {
   "interpreter": {
    "hash": "11f21dda1417471a0d9e2117c77c0091d82e391e3fcd7a87bb5c09e4a11f2085"
   }
  }
 },
 "nbformat": 4,
 "nbformat_minor": 2
}
