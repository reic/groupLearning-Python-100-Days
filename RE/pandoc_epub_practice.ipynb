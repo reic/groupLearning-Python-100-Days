{
 "cells": [
  {
   "cell_type": "code",
   "execution_count": null,
   "metadata": {},
   "outputs": [],
   "source": [
    "import os\n",
    "import re\n",
    "# in D drive, type the follow command to clone the practice data from github\n",
    "# git clone https://github.com/progit/progit.git \n",
    "os.chdir(r\"d:/progit/\")\n",
    "fileall=list()\n",
    "for dirPath, dirNames, fileNames in os.walk(\"zh-tw\"):\n",
    "\tif len(fileNames)==0:\n",
    "\t\tcontinue\n",
    "\tfor file in fileNames:\n",
    "\t\t# print(f\"{dirPath}\\{file}\")\n",
    "\t\tfileall.append(f\"{dirPath}\\{file}\")\n",
    "fileall\n",
    "for file in fileall:\n",
    "\twith open(file,mode=\"r\",encoding='utf-8') as f:\n",
    "\t\tcontent=f.read()\n",
    "\tmatch_pattern=re.compile(r\"\\nInsert\\s(.*).png\\n([^\\n]*)\")\n",
    "\t# match_pattern=re.compile(r\"../../(figures/)\")\n",
    "\t# test=re.sub(match_pattern,r\"![\\2\\]\")\n",
    "\t\n",
    "\twith open(file,mode=\"w\",encoding='utf-8') as f:\n",
    "\t\tf.write(re.sub(match_pattern,r\"\\n![\\2](figures/\\1-tn.png)\",content))\n",
    "\t\t# f.write(re.sub(match_pattern,r\"\\1\",content))\n",
    "\n"
   ]
  }
 ],
 "metadata": {
  "kernelspec": {
   "display_name": "Python 3.8.5 64-bit (system)",
   "language": "python",
   "name": "python3"
  },
  "language_info": {
   "name": "python",
   "version": "3.8.5"
  },
  "orig_nbformat": 4,
  "vscode": {
   "interpreter": {
    "hash": "11f21dda1417471a0d9e2117c77c0091d82e391e3fcd7a87bb5c09e4a11f2085"
   }
  }
 },
 "nbformat": 4,
 "nbformat_minor": 2
}
