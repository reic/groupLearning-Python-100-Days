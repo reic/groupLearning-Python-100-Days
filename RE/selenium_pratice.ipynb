{
 "cells": [
  {
   "cell_type": "code",
   "execution_count": 78,
   "metadata": {},
   "outputs": [
    {
     "name": "stdout",
     "output_type": "stream",
     "text": [
      "他是一個男孩\n",
      "母鹿宣布4.2億美元，在美國能源研究中心推進清潔能源突破\n",
      " \n"
     ]
    }
   ],
   "source": [
    "import time\n",
    "from selenium import webdriver\n",
    "from selenium.webdriver.common.by import By\n",
    "from selenium.webdriver.common.keys import Keys\n",
    "from selenium.webdriver.chrome.service import Service\n",
    "from selenium.webdriver.chrome.options import Options\n",
    "import urllib\n",
    "\n",
    "def trans_encode(text):\n",
    "\turl=\"https://translate.google.com/?sl=en&tl=zh-TW&text={}&op=translate\"\n",
    "\tvalue=urllib.parse.urlencode(data)\n",
    "\treturn url.format(urllib.parse.quote(text))\n",
    "\n",
    "def getTWtext(s):\n",
    "\treturn s.find_element(By.XPATH,\"/html/body/c-wiz/div/div[2]/c-wiz/div[2]/c-wiz/div[1]/div[2]/div[3]/c-wiz[2]/div[6]/div/div[1]\").text\n",
    "\n",
    "chrome=Service(r'g:\\chromedriver.exe')\n",
    "content2trans=\"he's is a boy\"\n",
    "options=Options()\n",
    "options.add_argument(\"--headless\")\n",
    "driver=webdriver.Chrome(service=chrome,options=options)\n",
    "\n",
    "# driver.get(trans_encode(content2trans))\n",
    "# time.sleep(1)\n",
    "# print(getTWtext(driver))\n",
    "toTrans=content2trans\n",
    "toTrans+=\"\\n\\n\"+\"DOE Announces $420 Million to Advance Clean Energy Breakthroughs at Energy Research Centers Across America\"\n",
    "driver.get(trans_encode(toTrans))\n",
    "time.sleep(1)\n",
    "print(getTWtext(driver))\n",
    "# print(driver.find_element(By.CSS_SELECTOR,\"#ow166 > div.J0lOec > span.VIiyi > span > span\").text)\n",
    "\n",
    "\n",
    "\n"
   ]
  }
 ],
 "metadata": {
  "interpreter": {
   "hash": "b94d44edd9c7447e6e732e8608c04597396e36c72beedcad4d7ee4b0d542970e"
  },
  "kernelspec": {
   "display_name": "Python 3.8.5 64-bit (system)",
   "language": "python",
   "name": "python3"
  },
  "language_info": {
   "codemirror_mode": {
    "name": "ipython",
    "version": 3
   },
   "file_extension": ".py",
   "mimetype": "text/x-python",
   "name": "python",
   "nbconvert_exporter": "python",
   "pygments_lexer": "ipython3",
   "version": "3.8.5"
  },
  "orig_nbformat": 4
 },
 "nbformat": 4,
 "nbformat_minor": 2
}
